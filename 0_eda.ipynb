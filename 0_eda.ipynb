{
 "cells": [
  {
   "cell_type": "markdown",
   "id": "a80250c8-976c-4649-8778-f9ef15a72661",
   "metadata": {
    "tags": []
   },
   "source": [
    "# IPL Analytics\n",
    "\n",
    "`Date`: '2023-04-06'\n",
    "\n",
    "`Author`: Pinaki Ranjan Brahma\n",
    "\n",
    "`Objective`: To find top players based on recent form to be used for fantasy leagues"
   ]
  },
  {
   "cell_type": "code",
   "execution_count": null,
   "id": "876aa513-75e6-448b-b4a6-ba3e00ca5f25",
   "metadata": {},
   "outputs": [],
   "source": []
  },
  {
   "cell_type": "markdown",
   "id": "89d41599-1a07-4c33-a2d0-1936aa026a85",
   "metadata": {},
   "source": [
    "# Steps\n",
    "\n",
    "Data Read"
   ]
  },
  {
   "cell_type": "code",
   "execution_count": null,
   "id": "e038eac7-c8fb-45a6-816c-6d2b2a527b7d",
   "metadata": {},
   "outputs": [],
   "source": []
  },
  {
   "cell_type": "code",
   "execution_count": 1,
   "id": "644834a7-f4cd-4356-bbe8-942f05f56d29",
   "metadata": {
    "tags": []
   },
   "outputs": [],
   "source": [
    "path_dir = \"data/\"\n",
    "\n",
    "path_bat = path_dir + 'Batting Stats/'\n",
    "path_ball = path_dir + 'Bowling Stats/'"
   ]
  },
  {
   "cell_type": "code",
   "execution_count": 2,
   "id": "d945053b-91a5-4629-875a-d4dc3378fe19",
   "metadata": {
    "tags": []
   },
   "outputs": [],
   "source": [
    "import pandas as pd\n",
    "import numpy as np\n",
    "from datetime import datetime\n",
    "\n",
    "import re"
   ]
  },
  {
   "cell_type": "code",
   "execution_count": 3,
   "id": "e86d094d-703c-453d-a2e6-a1960afb1ca4",
   "metadata": {
    "tags": []
   },
   "outputs": [],
   "source": [
    "import matplotlib.pyplot as plt"
   ]
  },
  {
   "cell_type": "code",
   "execution_count": 4,
   "id": "4c6a18f9-9c2d-49e4-bec0-eb5bbf4d7be3",
   "metadata": {
    "tags": []
   },
   "outputs": [],
   "source": [
    "import os"
   ]
  },
  {
   "cell_type": "code",
   "execution_count": 5,
   "id": "86cfe9f0-d348-4ca9-aecf-09943235cc1b",
   "metadata": {
    "tags": []
   },
   "outputs": [],
   "source": [
    "from IPython.core.interactiveshell import InteractiveShell\n",
    "InteractiveShell.ast_node_interactivity = 'all'"
   ]
  },
  {
   "cell_type": "code",
   "execution_count": null,
   "id": "38b93fee-54cf-4c96-adf0-c7769f33873a",
   "metadata": {},
   "outputs": [],
   "source": []
  },
  {
   "cell_type": "code",
   "execution_count": 6,
   "id": "b06ab38f-621d-4c2a-884c-15726cbe85a6",
   "metadata": {
    "tags": []
   },
   "outputs": [
    {
     "data": {
      "text/plain": [
       "['BATTING STATS - IPL_2016.csv',\n",
       " 'BATTING STATS - IPL_2017.csv',\n",
       " 'BATTING STATS - IPL_2022.csv',\n",
       " 'BATTING STATS - IPL_2020.csv',\n",
       " 'BATTING STATS - IPL_2021.csv',\n",
       " 'BATTING STATS - IPL_2019.csv',\n",
       " 'BATTING STATS - IPL_2018.csv']"
      ]
     },
     "execution_count": 6,
     "metadata": {},
     "output_type": "execute_result"
    },
    {
     "data": {
      "text/plain": [
       "['BOWLING STATS - IPL_2022.csv',\n",
       " 'BOWLING STATS - IPL_2020.csv',\n",
       " 'BOWLING STATS - IPL_2021.csv',\n",
       " 'BOWLING STATS - IPL_2019.csv',\n",
       " 'BOWLING STATS - IPL_2018.csv',\n",
       " 'BOWLING STATS - IPL_2016.csv',\n",
       " 'BOWLING STATS - IPL_2017.csv']"
      ]
     },
     "execution_count": 6,
     "metadata": {},
     "output_type": "execute_result"
    }
   ],
   "source": [
    "# get all csv files from dir\n",
    "l_bat = os.listdir(path_bat)\n",
    "l_bat\n",
    "\n",
    "l_ball = os.listdir(path_ball)\n",
    "l_ball"
   ]
  },
  {
   "cell_type": "code",
   "execution_count": 7,
   "id": "93f94df4-4598-442c-8945-20edcbd9fc19",
   "metadata": {
    "tags": []
   },
   "outputs": [],
   "source": [
    "def get_year_from_file(txt):\n",
    "    step1 = txt.split('_')[-1]\n",
    "    step2 = step1.split('.')[0]\n",
    "    yr = int(step2) if step2 else None\n",
    "    return yr"
   ]
  },
  {
   "cell_type": "code",
   "execution_count": 8,
   "id": "43487a84-254b-4854-b544-4cf6ff405ca8",
   "metadata": {
    "tags": []
   },
   "outputs": [
    {
     "data": {
      "text/plain": [
       "'BOWLING STATS - IPL_2021.csv'"
      ]
     },
     "execution_count": 8,
     "metadata": {},
     "output_type": "execute_result"
    },
    {
     "data": {
      "text/plain": [
       "2021"
      ]
     },
     "execution_count": 8,
     "metadata": {},
     "output_type": "execute_result"
    }
   ],
   "source": [
    "l_ball[2]\n",
    "get_year_from_file(l_ball[2])"
   ]
  },
  {
   "cell_type": "code",
   "execution_count": 9,
   "id": "93db5f46-1b04-44ec-88c7-126ed17c38e2",
   "metadata": {
    "tags": []
   },
   "outputs": [
    {
     "name": "stdout",
     "output_type": "stream",
     "text": [
      "shape of batting df:  (1005, 15)\n",
      "shape of bowling df:  (615, 14)\n"
     ]
    }
   ],
   "source": [
    "# read all files from dir\n",
    "df_bat_raw = pd.DataFrame()\n",
    "for onefile in l_bat:\n",
    "    yr = get_year_from_file(onefile)\n",
    "    df_temp = pd.read_csv(path_bat + onefile)\n",
    "    df_temp.loc[:, 'year'] = yr\n",
    "    df_bat_raw = pd.concat([df_bat_raw, df_temp], axis=0)\n",
    "\n",
    "print('shape of batting df: ', df_bat_raw.shape)\n",
    "    \n",
    "df_ball_raw = pd.DataFrame()\n",
    "for onefile in l_ball:\n",
    "    yr = get_year_from_file(onefile)\n",
    "    df_temp = pd.read_csv(path_ball + onefile)\n",
    "    df_temp.loc[:, 'year'] = yr\n",
    "    df_ball_raw = pd.concat([df_ball_raw, df_temp], axis=0)\n",
    "\n",
    "print('shape of bowling df: ', df_ball_raw.shape)\n"
   ]
  },
  {
   "cell_type": "code",
   "execution_count": null,
   "id": "8cb39aec-57be-492d-928a-d75b7640612f",
   "metadata": {},
   "outputs": [],
   "source": []
  },
  {
   "cell_type": "code",
   "execution_count": 10,
   "id": "5ca66e8b-b1b1-4755-8085-83cdd73dde18",
   "metadata": {
    "tags": []
   },
   "outputs": [],
   "source": [
    "# filter for one player\n",
    "def pick_one(df, col_pick):\n",
    "    l_choices = df[col_pick].unique()\n",
    "    return np.random.choice(l_choices, 1)[0]"
   ]
  },
  {
   "cell_type": "code",
   "execution_count": 11,
   "id": "887333fe-ea0f-4478-94c4-9258af3c1e22",
   "metadata": {
    "tags": []
   },
   "outputs": [],
   "source": [
    "def plot_stats(df_orig, col_stats):\n",
    "    pl = df_orig['Player'].unique()[0]\n",
    "    df = df_orig.sort_values('year', ascending=True)\n",
    "    df = df.loc[:, ['year', col_stats]]\n",
    "    plt.plot('year', col_stats, data=df)\n",
    "    plt.title(f\"{col_stats} Trend for {pl}\")"
   ]
  },
  {
   "cell_type": "markdown",
   "id": "e5434595-4ad3-4203-acc8-865d28bf7e37",
   "metadata": {},
   "source": [
    "# Batting Stats"
   ]
  },
  {
   "cell_type": "code",
   "execution_count": 12,
   "id": "a6af0b23-1a12-4f33-9ccb-5f20ad7caf3d",
   "metadata": {
    "tags": []
   },
   "outputs": [
    {
     "data": {
      "text/plain": [
       "Index(['POS', 'Player', 'Mat', 'Inns', 'NO', 'Runs', 'HS', 'Avg', 'BF', 'SR',\n",
       "       '100', '50', '4s', '6s', 'year'],\n",
       "      dtype='object')"
      ]
     },
     "execution_count": 12,
     "metadata": {},
     "output_type": "execute_result"
    }
   ],
   "source": [
    "df_bat_raw.columns"
   ]
  },
  {
   "cell_type": "code",
   "execution_count": 13,
   "id": "e966bfa5-04c4-4585-ad02-faae0c33d5db",
   "metadata": {
    "tags": []
   },
   "outputs": [
    {
     "data": {
      "text/html": [
       "<div>\n",
       "<style scoped>\n",
       "    .dataframe tbody tr th:only-of-type {\n",
       "        vertical-align: middle;\n",
       "    }\n",
       "\n",
       "    .dataframe tbody tr th {\n",
       "        vertical-align: top;\n",
       "    }\n",
       "\n",
       "    .dataframe thead th {\n",
       "        text-align: right;\n",
       "    }\n",
       "</style>\n",
       "<table border=\"1\" class=\"dataframe\">\n",
       "  <thead>\n",
       "    <tr style=\"text-align: right;\">\n",
       "      <th></th>\n",
       "      <th>POS</th>\n",
       "      <th>Player</th>\n",
       "      <th>Mat</th>\n",
       "      <th>Inns</th>\n",
       "      <th>NO</th>\n",
       "      <th>Runs</th>\n",
       "      <th>HS</th>\n",
       "      <th>Avg</th>\n",
       "      <th>BF</th>\n",
       "      <th>SR</th>\n",
       "      <th>100</th>\n",
       "      <th>50</th>\n",
       "      <th>4s</th>\n",
       "      <th>6s</th>\n",
       "      <th>year</th>\n",
       "    </tr>\n",
       "  </thead>\n",
       "  <tbody>\n",
       "    <tr>\n",
       "      <th>0</th>\n",
       "      <td>1</td>\n",
       "      <td>Virat Kohli</td>\n",
       "      <td>16</td>\n",
       "      <td>16</td>\n",
       "      <td>4</td>\n",
       "      <td>973</td>\n",
       "      <td>113</td>\n",
       "      <td>81.08</td>\n",
       "      <td>640</td>\n",
       "      <td>152.03</td>\n",
       "      <td>4</td>\n",
       "      <td>7</td>\n",
       "      <td>83</td>\n",
       "      <td>38</td>\n",
       "      <td>2016</td>\n",
       "    </tr>\n",
       "    <tr>\n",
       "      <th>1</th>\n",
       "      <td>2</td>\n",
       "      <td>David Warner</td>\n",
       "      <td>17</td>\n",
       "      <td>17</td>\n",
       "      <td>3</td>\n",
       "      <td>848</td>\n",
       "      <td>93*</td>\n",
       "      <td>60.57</td>\n",
       "      <td>560</td>\n",
       "      <td>151.42</td>\n",
       "      <td>0</td>\n",
       "      <td>9</td>\n",
       "      <td>88</td>\n",
       "      <td>31</td>\n",
       "      <td>2016</td>\n",
       "    </tr>\n",
       "    <tr>\n",
       "      <th>2</th>\n",
       "      <td>3</td>\n",
       "      <td>AB de Villiers</td>\n",
       "      <td>16</td>\n",
       "      <td>16</td>\n",
       "      <td>3</td>\n",
       "      <td>687</td>\n",
       "      <td>129*</td>\n",
       "      <td>52.84</td>\n",
       "      <td>407</td>\n",
       "      <td>168.79</td>\n",
       "      <td>1</td>\n",
       "      <td>6</td>\n",
       "      <td>57</td>\n",
       "      <td>37</td>\n",
       "      <td>2016</td>\n",
       "    </tr>\n",
       "    <tr>\n",
       "      <th>3</th>\n",
       "      <td>4</td>\n",
       "      <td>Gautam Gambhir</td>\n",
       "      <td>15</td>\n",
       "      <td>15</td>\n",
       "      <td>2</td>\n",
       "      <td>501</td>\n",
       "      <td>90*</td>\n",
       "      <td>38.53</td>\n",
       "      <td>411</td>\n",
       "      <td>121.89</td>\n",
       "      <td>0</td>\n",
       "      <td>5</td>\n",
       "      <td>54</td>\n",
       "      <td>6</td>\n",
       "      <td>2016</td>\n",
       "    </tr>\n",
       "    <tr>\n",
       "      <th>4</th>\n",
       "      <td>5</td>\n",
       "      <td>Shikhar Dhawan</td>\n",
       "      <td>17</td>\n",
       "      <td>17</td>\n",
       "      <td>4</td>\n",
       "      <td>501</td>\n",
       "      <td>82*</td>\n",
       "      <td>38.53</td>\n",
       "      <td>429</td>\n",
       "      <td>116.78</td>\n",
       "      <td>0</td>\n",
       "      <td>4</td>\n",
       "      <td>51</td>\n",
       "      <td>8</td>\n",
       "      <td>2016</td>\n",
       "    </tr>\n",
       "  </tbody>\n",
       "</table>\n",
       "</div>"
      ],
      "text/plain": [
       "   POS          Player  Mat  Inns  NO  Runs    HS    Avg   BF      SR  100  \\\n",
       "0    1     Virat Kohli   16    16   4   973   113  81.08  640  152.03    4   \n",
       "1    2    David Warner   17    17   3   848   93*  60.57  560  151.42    0   \n",
       "2    3  AB de Villiers   16    16   3   687  129*  52.84  407  168.79    1   \n",
       "3    4  Gautam Gambhir   15    15   2   501   90*  38.53  411  121.89    0   \n",
       "4    5  Shikhar Dhawan   17    17   4   501   82*  38.53  429  116.78    0   \n",
       "\n",
       "   50  4s  6s  year  \n",
       "0   7  83  38  2016  \n",
       "1   9  88  31  2016  \n",
       "2   6  57  37  2016  \n",
       "3   5  54   6  2016  \n",
       "4   4  51   8  2016  "
      ]
     },
     "execution_count": 13,
     "metadata": {},
     "output_type": "execute_result"
    }
   ],
   "source": [
    "df_bat_raw.head()"
   ]
  },
  {
   "cell_type": "code",
   "execution_count": 14,
   "id": "c4475c9a-a7db-4b2d-91fe-8aacc7b5c681",
   "metadata": {
    "tags": []
   },
   "outputs": [
    {
     "data": {
      "text/html": [
       "<div>\n",
       "<style scoped>\n",
       "    .dataframe tbody tr th:only-of-type {\n",
       "        vertical-align: middle;\n",
       "    }\n",
       "\n",
       "    .dataframe tbody tr th {\n",
       "        vertical-align: top;\n",
       "    }\n",
       "\n",
       "    .dataframe thead th {\n",
       "        text-align: right;\n",
       "    }\n",
       "</style>\n",
       "<table border=\"1\" class=\"dataframe\">\n",
       "  <thead>\n",
       "    <tr style=\"text-align: right;\">\n",
       "      <th></th>\n",
       "      <th>POS</th>\n",
       "      <th>Player</th>\n",
       "      <th>Mat</th>\n",
       "      <th>Inns</th>\n",
       "      <th>NO</th>\n",
       "      <th>Runs</th>\n",
       "      <th>HS</th>\n",
       "      <th>Avg</th>\n",
       "      <th>BF</th>\n",
       "      <th>SR</th>\n",
       "      <th>100</th>\n",
       "      <th>50</th>\n",
       "      <th>4s</th>\n",
       "      <th>6s</th>\n",
       "    </tr>\n",
       "    <tr>\n",
       "      <th>year</th>\n",
       "      <th></th>\n",
       "      <th></th>\n",
       "      <th></th>\n",
       "      <th></th>\n",
       "      <th></th>\n",
       "      <th></th>\n",
       "      <th></th>\n",
       "      <th></th>\n",
       "      <th></th>\n",
       "      <th></th>\n",
       "      <th></th>\n",
       "      <th></th>\n",
       "      <th></th>\n",
       "      <th></th>\n",
       "    </tr>\n",
       "  </thead>\n",
       "  <tbody>\n",
       "    <tr>\n",
       "      <th>2016</th>\n",
       "      <td>136</td>\n",
       "      <td>136</td>\n",
       "      <td>17</td>\n",
       "      <td>17</td>\n",
       "      <td>8</td>\n",
       "      <td>97</td>\n",
       "      <td>91</td>\n",
       "      <td>94</td>\n",
       "      <td>95</td>\n",
       "      <td>121</td>\n",
       "      <td>3</td>\n",
       "      <td>9</td>\n",
       "      <td>39</td>\n",
       "      <td>20</td>\n",
       "    </tr>\n",
       "    <tr>\n",
       "      <th>2017</th>\n",
       "      <td>143</td>\n",
       "      <td>143</td>\n",
       "      <td>17</td>\n",
       "      <td>16</td>\n",
       "      <td>8</td>\n",
       "      <td>99</td>\n",
       "      <td>89</td>\n",
       "      <td>100</td>\n",
       "      <td>90</td>\n",
       "      <td>115</td>\n",
       "      <td>3</td>\n",
       "      <td>6</td>\n",
       "      <td>42</td>\n",
       "      <td>25</td>\n",
       "    </tr>\n",
       "    <tr>\n",
       "      <th>2018</th>\n",
       "      <td>138</td>\n",
       "      <td>138</td>\n",
       "      <td>17</td>\n",
       "      <td>17</td>\n",
       "      <td>9</td>\n",
       "      <td>102</td>\n",
       "      <td>89</td>\n",
       "      <td>103</td>\n",
       "      <td>95</td>\n",
       "      <td>122</td>\n",
       "      <td>3</td>\n",
       "      <td>8</td>\n",
       "      <td>40</td>\n",
       "      <td>30</td>\n",
       "    </tr>\n",
       "    <tr>\n",
       "      <th>2019</th>\n",
       "      <td>144</td>\n",
       "      <td>144</td>\n",
       "      <td>17</td>\n",
       "      <td>17</td>\n",
       "      <td>9</td>\n",
       "      <td>92</td>\n",
       "      <td>92</td>\n",
       "      <td>96</td>\n",
       "      <td>93</td>\n",
       "      <td>113</td>\n",
       "      <td>2</td>\n",
       "      <td>8</td>\n",
       "      <td>40</td>\n",
       "      <td>27</td>\n",
       "    </tr>\n",
       "    <tr>\n",
       "      <th>2020</th>\n",
       "      <td>133</td>\n",
       "      <td>133</td>\n",
       "      <td>17</td>\n",
       "      <td>17</td>\n",
       "      <td>8</td>\n",
       "      <td>93</td>\n",
       "      <td>90</td>\n",
       "      <td>96</td>\n",
       "      <td>89</td>\n",
       "      <td>106</td>\n",
       "      <td>3</td>\n",
       "      <td>6</td>\n",
       "      <td>42</td>\n",
       "      <td>26</td>\n",
       "    </tr>\n",
       "    <tr>\n",
       "      <th>2021</th>\n",
       "      <td>149</td>\n",
       "      <td>149</td>\n",
       "      <td>17</td>\n",
       "      <td>17</td>\n",
       "      <td>8</td>\n",
       "      <td>98</td>\n",
       "      <td>92</td>\n",
       "      <td>102</td>\n",
       "      <td>97</td>\n",
       "      <td>119</td>\n",
       "      <td>2</td>\n",
       "      <td>6</td>\n",
       "      <td>42</td>\n",
       "      <td>23</td>\n",
       "    </tr>\n",
       "    <tr>\n",
       "      <th>2022</th>\n",
       "      <td>162</td>\n",
       "      <td>162</td>\n",
       "      <td>17</td>\n",
       "      <td>17</td>\n",
       "      <td>10</td>\n",
       "      <td>111</td>\n",
       "      <td>100</td>\n",
       "      <td>119</td>\n",
       "      <td>111</td>\n",
       "      <td>143</td>\n",
       "      <td>4</td>\n",
       "      <td>6</td>\n",
       "      <td>42</td>\n",
       "      <td>28</td>\n",
       "    </tr>\n",
       "  </tbody>\n",
       "</table>\n",
       "</div>"
      ],
      "text/plain": [
       "      POS  Player  Mat  Inns  NO  Runs   HS  Avg   BF   SR  100  50  4s  6s\n",
       "year                                                                       \n",
       "2016  136     136   17    17   8    97   91   94   95  121    3   9  39  20\n",
       "2017  143     143   17    16   8    99   89  100   90  115    3   6  42  25\n",
       "2018  138     138   17    17   9   102   89  103   95  122    3   8  40  30\n",
       "2019  144     144   17    17   9    92   92   96   93  113    2   8  40  27\n",
       "2020  133     133   17    17   8    93   90   96   89  106    3   6  42  26\n",
       "2021  149     149   17    17   8    98   92  102   97  119    2   6  42  23\n",
       "2022  162     162   17    17  10   111  100  119  111  143    4   6  42  28"
      ]
     },
     "execution_count": 14,
     "metadata": {},
     "output_type": "execute_result"
    }
   ],
   "source": [
    "df_bat_raw.groupby('year').nunique()"
   ]
  },
  {
   "cell_type": "code",
   "execution_count": 15,
   "id": "0911f39b-7f56-4eb4-813a-bf20a66b7a82",
   "metadata": {
    "tags": []
   },
   "outputs": [
    {
     "data": {
      "text/plain": [
       "'Moeen Ali'"
      ]
     },
     "execution_count": 15,
     "metadata": {},
     "output_type": "execute_result"
    }
   ],
   "source": [
    "pl = pick_one(df_bat_raw, 'Player')\n",
    "# pl = \"MS Dhoni\"\n",
    "\n",
    "pl"
   ]
  },
  {
   "cell_type": "code",
   "execution_count": 16,
   "id": "1a3ea13d-2bf0-4cbd-afe8-ad4d6f15b6be",
   "metadata": {
    "tags": []
   },
   "outputs": [
    {
     "data": {
      "text/plain": [
       "(5, 15)"
      ]
     },
     "execution_count": 16,
     "metadata": {},
     "output_type": "execute_result"
    }
   ],
   "source": [
    "filt_pl = (df_bat_raw['Player']==pl)\n",
    "df_pl = df_bat_raw.loc[filt_pl,:]\n",
    "df_pl.shape"
   ]
  },
  {
   "cell_type": "code",
   "execution_count": 17,
   "id": "0c200456-0cfb-4e48-993b-bf58f14ace8b",
   "metadata": {
    "tags": []
   },
   "outputs": [
    {
     "data": {
      "text/html": [
       "<div>\n",
       "<style scoped>\n",
       "    .dataframe tbody tr th:only-of-type {\n",
       "        vertical-align: middle;\n",
       "    }\n",
       "\n",
       "    .dataframe tbody tr th {\n",
       "        vertical-align: top;\n",
       "    }\n",
       "\n",
       "    .dataframe thead th {\n",
       "        text-align: right;\n",
       "    }\n",
       "</style>\n",
       "<table border=\"1\" class=\"dataframe\">\n",
       "  <thead>\n",
       "    <tr style=\"text-align: right;\">\n",
       "      <th></th>\n",
       "      <th>POS</th>\n",
       "      <th>Player</th>\n",
       "      <th>Mat</th>\n",
       "      <th>Inns</th>\n",
       "      <th>NO</th>\n",
       "      <th>Runs</th>\n",
       "      <th>HS</th>\n",
       "      <th>Avg</th>\n",
       "      <th>BF</th>\n",
       "      <th>SR</th>\n",
       "      <th>100</th>\n",
       "      <th>50</th>\n",
       "      <th>4s</th>\n",
       "      <th>6s</th>\n",
       "      <th>year</th>\n",
       "    </tr>\n",
       "  </thead>\n",
       "  <tbody>\n",
       "    <tr>\n",
       "      <th>60</th>\n",
       "      <td>61</td>\n",
       "      <td>Moeen Ali</td>\n",
       "      <td>5</td>\n",
       "      <td>4</td>\n",
       "      <td>0</td>\n",
       "      <td>77</td>\n",
       "      <td>65</td>\n",
       "      <td>19.25</td>\n",
       "      <td>46</td>\n",
       "      <td>167.39</td>\n",
       "      <td>0</td>\n",
       "      <td>1</td>\n",
       "      <td>4</td>\n",
       "      <td>6</td>\n",
       "      <td>2018</td>\n",
       "    </tr>\n",
       "    <tr>\n",
       "      <th>34</th>\n",
       "      <td>35</td>\n",
       "      <td>Moeen Ali</td>\n",
       "      <td>11</td>\n",
       "      <td>10</td>\n",
       "      <td>2</td>\n",
       "      <td>220</td>\n",
       "      <td>66</td>\n",
       "      <td>27.5</td>\n",
       "      <td>133</td>\n",
       "      <td>165.41</td>\n",
       "      <td>0</td>\n",
       "      <td>2</td>\n",
       "      <td>16</td>\n",
       "      <td>17</td>\n",
       "      <td>2019</td>\n",
       "    </tr>\n",
       "    <tr>\n",
       "      <th>94</th>\n",
       "      <td>95</td>\n",
       "      <td>Moeen Ali</td>\n",
       "      <td>3</td>\n",
       "      <td>3</td>\n",
       "      <td>0</td>\n",
       "      <td>12</td>\n",
       "      <td>11</td>\n",
       "      <td>4.0</td>\n",
       "      <td>16</td>\n",
       "      <td>75.00</td>\n",
       "      <td>0</td>\n",
       "      <td>0</td>\n",
       "      <td>1</td>\n",
       "      <td>0</td>\n",
       "      <td>2020</td>\n",
       "    </tr>\n",
       "    <tr>\n",
       "      <th>16</th>\n",
       "      <td>17</td>\n",
       "      <td>Moeen Ali</td>\n",
       "      <td>15</td>\n",
       "      <td>15</td>\n",
       "      <td>1</td>\n",
       "      <td>357</td>\n",
       "      <td>58</td>\n",
       "      <td>25.5</td>\n",
       "      <td>260</td>\n",
       "      <td>137.30</td>\n",
       "      <td>0</td>\n",
       "      <td>1</td>\n",
       "      <td>31</td>\n",
       "      <td>19</td>\n",
       "      <td>2021</td>\n",
       "    </tr>\n",
       "    <tr>\n",
       "      <th>40</th>\n",
       "      <td>41</td>\n",
       "      <td>Moeen Ali</td>\n",
       "      <td>10</td>\n",
       "      <td>10</td>\n",
       "      <td>0</td>\n",
       "      <td>244</td>\n",
       "      <td>93</td>\n",
       "      <td>24.4</td>\n",
       "      <td>177</td>\n",
       "      <td>137.85</td>\n",
       "      <td>0</td>\n",
       "      <td>1</td>\n",
       "      <td>24</td>\n",
       "      <td>11</td>\n",
       "      <td>2022</td>\n",
       "    </tr>\n",
       "  </tbody>\n",
       "</table>\n",
       "</div>"
      ],
      "text/plain": [
       "    POS     Player  Mat  Inns  NO  Runs  HS    Avg   BF      SR  100  50  4s  \\\n",
       "60   61  Moeen Ali    5     4   0    77  65  19.25   46  167.39    0   1   4   \n",
       "34   35  Moeen Ali   11    10   2   220  66   27.5  133  165.41    0   2  16   \n",
       "94   95  Moeen Ali    3     3   0    12  11    4.0   16   75.00    0   0   1   \n",
       "16   17  Moeen Ali   15    15   1   357  58   25.5  260  137.30    0   1  31   \n",
       "40   41  Moeen Ali   10    10   0   244  93   24.4  177  137.85    0   1  24   \n",
       "\n",
       "    6s  year  \n",
       "60   6  2018  \n",
       "34  17  2019  \n",
       "94   0  2020  \n",
       "16  19  2021  \n",
       "40  11  2022  "
      ]
     },
     "execution_count": 17,
     "metadata": {},
     "output_type": "execute_result"
    }
   ],
   "source": [
    "df_pl.sort_values(['year'])"
   ]
  },
  {
   "cell_type": "code",
   "execution_count": 18,
   "id": "168baee8-f1d5-424d-a23e-0711b5d0716c",
   "metadata": {
    "tags": []
   },
   "outputs": [
    {
     "data": {
      "image/png": "[encoded data removed]",
      "text/plain": [
       "<Figure size 640x480 with 1 Axes>"
      ]
     },
     "metadata": {},
     "output_type": "display_data"
    }
   ],
   "source": [
    "plot_stats(df_pl, 'Avg')"
   ]
  },
  {
   "cell_type": "code",
   "execution_count": null,
   "id": "6bbca59d-d687-4889-acda-9b6714f53e1c",
   "metadata": {},
   "outputs": [],
   "source": []
  },
  {
   "cell_type": "markdown",
   "id": "deb5a079-c296-46dd-91e1-b246e743da42",
   "metadata": {},
   "source": [
    "# Bowling Stats"
   ]
  },
  {
   "cell_type": "code",
   "execution_count": 19,
   "id": "95cd962a-403a-42ee-9a68-0b4b42467e99",
   "metadata": {
    "tags": []
   },
   "outputs": [
    {
     "data": {
      "text/plain": [
       "Index(['POS', 'Player', 'Mat', 'Inns', 'Ov', 'Runs', 'Wkts', 'BBI', 'Avg',\n",
       "       'Econ', 'SR', '4w', '5w', 'year'],\n",
       "      dtype='object')"
      ]
     },
     "execution_count": 19,
     "metadata": {},
     "output_type": "execute_result"
    }
   ],
   "source": [
    "df_ball_raw.columns"
   ]
  },
  {
   "cell_type": "code",
   "execution_count": 20,
   "id": "7ab0a6ac-83cd-4ee6-b185-ea3f7b46a841",
   "metadata": {
    "tags": []
   },
   "outputs": [
    {
     "data": {
      "text/html": [
       "<div>\n",
       "<style scoped>\n",
       "    .dataframe tbody tr th:only-of-type {\n",
       "        vertical-align: middle;\n",
       "    }\n",
       "\n",
       "    .dataframe tbody tr th {\n",
       "        vertical-align: top;\n",
       "    }\n",
       "\n",
       "    .dataframe thead th {\n",
       "        text-align: right;\n",
       "    }\n",
       "</style>\n",
       "<table border=\"1\" class=\"dataframe\">\n",
       "  <thead>\n",
       "    <tr style=\"text-align: right;\">\n",
       "      <th></th>\n",
       "      <th>POS</th>\n",
       "      <th>Player</th>\n",
       "      <th>Mat</th>\n",
       "      <th>Inns</th>\n",
       "      <th>Ov</th>\n",
       "      <th>Runs</th>\n",
       "      <th>Wkts</th>\n",
       "      <th>BBI</th>\n",
       "      <th>Avg</th>\n",
       "      <th>Econ</th>\n",
       "      <th>SR</th>\n",
       "      <th>4w</th>\n",
       "      <th>5w</th>\n",
       "      <th>year</th>\n",
       "    </tr>\n",
       "  </thead>\n",
       "  <tbody>\n",
       "    <tr>\n",
       "      <th>0</th>\n",
       "      <td>1</td>\n",
       "      <td>Yuzvendra Chahal</td>\n",
       "      <td>17</td>\n",
       "      <td>17</td>\n",
       "      <td>68.0</td>\n",
       "      <td>527</td>\n",
       "      <td>27</td>\n",
       "      <td>40/5</td>\n",
       "      <td>19.51</td>\n",
       "      <td>7.75</td>\n",
       "      <td>15.11</td>\n",
       "      <td>1</td>\n",
       "      <td>1</td>\n",
       "      <td>2022</td>\n",
       "    </tr>\n",
       "    <tr>\n",
       "      <th>1</th>\n",
       "      <td>2</td>\n",
       "      <td>Wanindu Hasaranga</td>\n",
       "      <td>16</td>\n",
       "      <td>16</td>\n",
       "      <td>57.0</td>\n",
       "      <td>430</td>\n",
       "      <td>26</td>\n",
       "      <td>18/5</td>\n",
       "      <td>16.53</td>\n",
       "      <td>7.54</td>\n",
       "      <td>13.15</td>\n",
       "      <td>1</td>\n",
       "      <td>1</td>\n",
       "      <td>2022</td>\n",
       "    </tr>\n",
       "    <tr>\n",
       "      <th>2</th>\n",
       "      <td>3</td>\n",
       "      <td>Kagiso Rabada</td>\n",
       "      <td>13</td>\n",
       "      <td>13</td>\n",
       "      <td>48.0</td>\n",
       "      <td>406</td>\n",
       "      <td>23</td>\n",
       "      <td>33/4</td>\n",
       "      <td>17.65</td>\n",
       "      <td>8.45</td>\n",
       "      <td>12.52</td>\n",
       "      <td>2</td>\n",
       "      <td>0</td>\n",
       "      <td>2022</td>\n",
       "    </tr>\n",
       "    <tr>\n",
       "      <th>3</th>\n",
       "      <td>4</td>\n",
       "      <td>Umran Malik</td>\n",
       "      <td>14</td>\n",
       "      <td>14</td>\n",
       "      <td>49.1</td>\n",
       "      <td>444</td>\n",
       "      <td>22</td>\n",
       "      <td>25/5</td>\n",
       "      <td>20.18</td>\n",
       "      <td>9.03</td>\n",
       "      <td>13.40</td>\n",
       "      <td>1</td>\n",
       "      <td>1</td>\n",
       "      <td>2022</td>\n",
       "    </tr>\n",
       "    <tr>\n",
       "      <th>4</th>\n",
       "      <td>5</td>\n",
       "      <td>Kuldeep Yadav</td>\n",
       "      <td>14</td>\n",
       "      <td>14</td>\n",
       "      <td>49.4</td>\n",
       "      <td>419</td>\n",
       "      <td>21</td>\n",
       "      <td>14/4</td>\n",
       "      <td>19.95</td>\n",
       "      <td>8.43</td>\n",
       "      <td>14.19</td>\n",
       "      <td>2</td>\n",
       "      <td>0</td>\n",
       "      <td>2022</td>\n",
       "    </tr>\n",
       "  </tbody>\n",
       "</table>\n",
       "</div>"
      ],
      "text/plain": [
       "   POS             Player  Mat  Inns    Ov  Runs  Wkts   BBI    Avg  Econ  \\\n",
       "0    1   Yuzvendra Chahal   17    17  68.0   527    27  40/5  19.51  7.75   \n",
       "1    2  Wanindu Hasaranga   16    16  57.0   430    26  18/5  16.53  7.54   \n",
       "2    3      Kagiso Rabada   13    13  48.0   406    23  33/4  17.65  8.45   \n",
       "3    4        Umran Malik   14    14  49.1   444    22  25/5  20.18  9.03   \n",
       "4    5      Kuldeep Yadav   14    14  49.4   419    21  14/4  19.95  8.43   \n",
       "\n",
       "      SR  4w  5w  year  \n",
       "0  15.11   1   1  2022  \n",
       "1  13.15   1   1  2022  \n",
       "2  12.52   2   0  2022  \n",
       "3  13.40   1   1  2022  \n",
       "4  14.19   2   0  2022  "
      ]
     },
     "execution_count": 20,
     "metadata": {},
     "output_type": "execute_result"
    }
   ],
   "source": [
    "df_ball_raw.head()"
   ]
  },
  {
   "cell_type": "code",
   "execution_count": 21,
   "id": "5fcfe5ad-def9-4500-95b2-6aa2d6f27ac6",
   "metadata": {
    "tags": []
   },
   "outputs": [
    {
     "data": {
      "text/html": [
       "<div>\n",
       "<style scoped>\n",
       "    .dataframe tbody tr th:only-of-type {\n",
       "        vertical-align: middle;\n",
       "    }\n",
       "\n",
       "    .dataframe tbody tr th {\n",
       "        vertical-align: top;\n",
       "    }\n",
       "\n",
       "    .dataframe thead th {\n",
       "        text-align: right;\n",
       "    }\n",
       "</style>\n",
       "<table border=\"1\" class=\"dataframe\">\n",
       "  <thead>\n",
       "    <tr style=\"text-align: right;\">\n",
       "      <th></th>\n",
       "      <th>POS</th>\n",
       "      <th>Player</th>\n",
       "      <th>Mat</th>\n",
       "      <th>Inns</th>\n",
       "      <th>Ov</th>\n",
       "      <th>Runs</th>\n",
       "      <th>Wkts</th>\n",
       "      <th>BBI</th>\n",
       "      <th>Avg</th>\n",
       "      <th>Econ</th>\n",
       "      <th>SR</th>\n",
       "      <th>4w</th>\n",
       "      <th>5w</th>\n",
       "    </tr>\n",
       "    <tr>\n",
       "      <th>year</th>\n",
       "      <th></th>\n",
       "      <th></th>\n",
       "      <th></th>\n",
       "      <th></th>\n",
       "      <th></th>\n",
       "      <th></th>\n",
       "      <th></th>\n",
       "      <th></th>\n",
       "      <th></th>\n",
       "      <th></th>\n",
       "      <th></th>\n",
       "      <th></th>\n",
       "      <th></th>\n",
       "    </tr>\n",
       "  </thead>\n",
       "  <tbody>\n",
       "    <tr>\n",
       "      <th>2016</th>\n",
       "      <td>86</td>\n",
       "      <td>86</td>\n",
       "      <td>17</td>\n",
       "      <td>17</td>\n",
       "      <td>40</td>\n",
       "      <td>80</td>\n",
       "      <td>20</td>\n",
       "      <td>57</td>\n",
       "      <td>80</td>\n",
       "      <td>74</td>\n",
       "      <td>68</td>\n",
       "      <td>2</td>\n",
       "      <td>2</td>\n",
       "    </tr>\n",
       "    <tr>\n",
       "      <th>2017</th>\n",
       "      <td>90</td>\n",
       "      <td>90</td>\n",
       "      <td>17</td>\n",
       "      <td>16</td>\n",
       "      <td>43</td>\n",
       "      <td>79</td>\n",
       "      <td>22</td>\n",
       "      <td>63</td>\n",
       "      <td>84</td>\n",
       "      <td>83</td>\n",
       "      <td>72</td>\n",
       "      <td>2</td>\n",
       "      <td>2</td>\n",
       "    </tr>\n",
       "    <tr>\n",
       "      <th>2018</th>\n",
       "      <td>82</td>\n",
       "      <td>82</td>\n",
       "      <td>16</td>\n",
       "      <td>17</td>\n",
       "      <td>48</td>\n",
       "      <td>77</td>\n",
       "      <td>21</td>\n",
       "      <td>59</td>\n",
       "      <td>79</td>\n",
       "      <td>73</td>\n",
       "      <td>67</td>\n",
       "      <td>3</td>\n",
       "      <td>2</td>\n",
       "    </tr>\n",
       "    <tr>\n",
       "      <th>2019</th>\n",
       "      <td>87</td>\n",
       "      <td>87</td>\n",
       "      <td>17</td>\n",
       "      <td>17</td>\n",
       "      <td>46</td>\n",
       "      <td>80</td>\n",
       "      <td>23</td>\n",
       "      <td>67</td>\n",
       "      <td>81</td>\n",
       "      <td>76</td>\n",
       "      <td>71</td>\n",
       "      <td>3</td>\n",
       "      <td>2</td>\n",
       "    </tr>\n",
       "    <tr>\n",
       "      <th>2020</th>\n",
       "      <td>78</td>\n",
       "      <td>78</td>\n",
       "      <td>17</td>\n",
       "      <td>16</td>\n",
       "      <td>44</td>\n",
       "      <td>74</td>\n",
       "      <td>22</td>\n",
       "      <td>55</td>\n",
       "      <td>73</td>\n",
       "      <td>71</td>\n",
       "      <td>60</td>\n",
       "      <td>3</td>\n",
       "      <td>2</td>\n",
       "    </tr>\n",
       "    <tr>\n",
       "      <th>2021</th>\n",
       "      <td>89</td>\n",
       "      <td>89</td>\n",
       "      <td>17</td>\n",
       "      <td>17</td>\n",
       "      <td>44</td>\n",
       "      <td>78</td>\n",
       "      <td>20</td>\n",
       "      <td>69</td>\n",
       "      <td>84</td>\n",
       "      <td>79</td>\n",
       "      <td>66</td>\n",
       "      <td>3</td>\n",
       "      <td>2</td>\n",
       "    </tr>\n",
       "    <tr>\n",
       "      <th>2022</th>\n",
       "      <td>103</td>\n",
       "      <td>103</td>\n",
       "      <td>17</td>\n",
       "      <td>17</td>\n",
       "      <td>71</td>\n",
       "      <td>93</td>\n",
       "      <td>25</td>\n",
       "      <td>78</td>\n",
       "      <td>95</td>\n",
       "      <td>95</td>\n",
       "      <td>77</td>\n",
       "      <td>3</td>\n",
       "      <td>2</td>\n",
       "    </tr>\n",
       "  </tbody>\n",
       "</table>\n",
       "</div>"
      ],
      "text/plain": [
       "      POS  Player  Mat  Inns  Ov  Runs  Wkts  BBI  Avg  Econ  SR  4w  5w\n",
       "year                                                                    \n",
       "2016   86      86   17    17  40    80    20   57   80    74  68   2   2\n",
       "2017   90      90   17    16  43    79    22   63   84    83  72   2   2\n",
       "2018   82      82   16    17  48    77    21   59   79    73  67   3   2\n",
       "2019   87      87   17    17  46    80    23   67   81    76  71   3   2\n",
       "2020   78      78   17    16  44    74    22   55   73    71  60   3   2\n",
       "2021   89      89   17    17  44    78    20   69   84    79  66   3   2\n",
       "2022  103     103   17    17  71    93    25   78   95    95  77   3   2"
      ]
     },
     "execution_count": 21,
     "metadata": {},
     "output_type": "execute_result"
    }
   ],
   "source": [
    "df_ball_raw.groupby('year').nunique()"
   ]
  },
  {
   "cell_type": "code",
   "execution_count": 31,
   "id": "258afb65-02ad-43f2-95bd-0adcdf67117b",
   "metadata": {
    "tags": []
   },
   "outputs": [
    {
     "data": {
      "text/plain": [
       "'Ravindra Jadeja'"
      ]
     },
     "execution_count": 31,
     "metadata": {},
     "output_type": "execute_result"
    }
   ],
   "source": [
    "pl = pick_one(df_ball_raw, 'Player')\n",
    "# pl = \"MS Dhoni\"\n",
    "\n",
    "pl"
   ]
  },
  {
   "cell_type": "code",
   "execution_count": 32,
   "id": "7a0f6e7a-e36d-4866-be1d-9960aceee58b",
   "metadata": {
    "tags": []
   },
   "outputs": [
    {
     "data": {
      "text/plain": [
       "(7, 14)"
      ]
     },
     "execution_count": 32,
     "metadata": {},
     "output_type": "execute_result"
    }
   ],
   "source": [
    "filt_pl = (df_ball_raw['Player']==pl)\n",
    "df_pl = df_ball_raw.loc[filt_pl,:]\n",
    "df_pl.shape"
   ]
  },
  {
   "cell_type": "code",
   "execution_count": 33,
   "id": "a6b060da-0ef5-4463-84e9-5854c6178f40",
   "metadata": {
    "tags": []
   },
   "outputs": [
    {
     "data": {
      "text/html": [
       "<div>\n",
       "<style scoped>\n",
       "    .dataframe tbody tr th:only-of-type {\n",
       "        vertical-align: middle;\n",
       "    }\n",
       "\n",
       "    .dataframe tbody tr th {\n",
       "        vertical-align: top;\n",
       "    }\n",
       "\n",
       "    .dataframe thead th {\n",
       "        text-align: right;\n",
       "    }\n",
       "</style>\n",
       "<table border=\"1\" class=\"dataframe\">\n",
       "  <thead>\n",
       "    <tr style=\"text-align: right;\">\n",
       "      <th></th>\n",
       "      <th>POS</th>\n",
       "      <th>Player</th>\n",
       "      <th>Mat</th>\n",
       "      <th>Inns</th>\n",
       "      <th>Ov</th>\n",
       "      <th>Runs</th>\n",
       "      <th>Wkts</th>\n",
       "      <th>BBI</th>\n",
       "      <th>Avg</th>\n",
       "      <th>Econ</th>\n",
       "      <th>SR</th>\n",
       "      <th>4w</th>\n",
       "      <th>5w</th>\n",
       "      <th>year</th>\n",
       "    </tr>\n",
       "  </thead>\n",
       "  <tbody>\n",
       "    <tr>\n",
       "      <th>32</th>\n",
       "      <td>33</td>\n",
       "      <td>Ravindra Jadeja</td>\n",
       "      <td>15</td>\n",
       "      <td>14</td>\n",
       "      <td>40.0</td>\n",
       "      <td>311</td>\n",
       "      <td>8</td>\n",
       "      <td>5/16</td>\n",
       "      <td>38.87</td>\n",
       "      <td>7.74</td>\n",
       "      <td>30.12</td>\n",
       "      <td>0</td>\n",
       "      <td>0</td>\n",
       "      <td>2016</td>\n",
       "    </tr>\n",
       "    <tr>\n",
       "      <th>49</th>\n",
       "      <td>50</td>\n",
       "      <td>Ravindra Jadeja</td>\n",
       "      <td>12</td>\n",
       "      <td>12</td>\n",
       "      <td>38.0</td>\n",
       "      <td>349</td>\n",
       "      <td>5</td>\n",
       "      <td>5/16</td>\n",
       "      <td>69.80</td>\n",
       "      <td>9.18</td>\n",
       "      <td>45.60</td>\n",
       "      <td>0</td>\n",
       "      <td>0</td>\n",
       "      <td>2017</td>\n",
       "    </tr>\n",
       "    <tr>\n",
       "      <th>26</th>\n",
       "      <td>27</td>\n",
       "      <td>Ravindra Jadeja</td>\n",
       "      <td>16</td>\n",
       "      <td>14</td>\n",
       "      <td>41.0</td>\n",
       "      <td>303</td>\n",
       "      <td>11</td>\n",
       "      <td>5/16</td>\n",
       "      <td>27.54</td>\n",
       "      <td>7.39</td>\n",
       "      <td>22.36</td>\n",
       "      <td>0</td>\n",
       "      <td>0</td>\n",
       "      <td>2018</td>\n",
       "    </tr>\n",
       "    <tr>\n",
       "      <th>12</th>\n",
       "      <td>13</td>\n",
       "      <td>Ravindra Jadeja</td>\n",
       "      <td>16</td>\n",
       "      <td>16</td>\n",
       "      <td>54.0</td>\n",
       "      <td>343</td>\n",
       "      <td>15</td>\n",
       "      <td>5/16</td>\n",
       "      <td>22.86</td>\n",
       "      <td>6.35</td>\n",
       "      <td>21.60</td>\n",
       "      <td>0</td>\n",
       "      <td>0</td>\n",
       "      <td>2019</td>\n",
       "    </tr>\n",
       "    <tr>\n",
       "      <th>39</th>\n",
       "      <td>40</td>\n",
       "      <td>Ravindra Jadeja</td>\n",
       "      <td>14</td>\n",
       "      <td>13</td>\n",
       "      <td>36.0</td>\n",
       "      <td>318</td>\n",
       "      <td>6</td>\n",
       "      <td>5/16</td>\n",
       "      <td>53.00</td>\n",
       "      <td>8.75</td>\n",
       "      <td>36.33</td>\n",
       "      <td>0</td>\n",
       "      <td>0</td>\n",
       "      <td>2020</td>\n",
       "    </tr>\n",
       "    <tr>\n",
       "      <th>18</th>\n",
       "      <td>19</td>\n",
       "      <td>Ravindra Jadeja</td>\n",
       "      <td>16</td>\n",
       "      <td>16</td>\n",
       "      <td>49.0</td>\n",
       "      <td>346</td>\n",
       "      <td>13</td>\n",
       "      <td>5/16</td>\n",
       "      <td>26.61</td>\n",
       "      <td>7.06</td>\n",
       "      <td>22.61</td>\n",
       "      <td>0</td>\n",
       "      <td>0</td>\n",
       "      <td>2021</td>\n",
       "    </tr>\n",
       "    <tr>\n",
       "      <th>60</th>\n",
       "      <td>61</td>\n",
       "      <td>Ravindra Jadeja</td>\n",
       "      <td>10</td>\n",
       "      <td>10</td>\n",
       "      <td>33.0</td>\n",
       "      <td>248</td>\n",
       "      <td>5</td>\n",
       "      <td>39/3</td>\n",
       "      <td>49.60</td>\n",
       "      <td>7.51</td>\n",
       "      <td>39.60</td>\n",
       "      <td>0</td>\n",
       "      <td>0</td>\n",
       "      <td>2022</td>\n",
       "    </tr>\n",
       "  </tbody>\n",
       "</table>\n",
       "</div>"
      ],
      "text/plain": [
       "    POS           Player  Mat  Inns    Ov  Runs  Wkts   BBI    Avg  Econ  \\\n",
       "32   33  Ravindra Jadeja   15    14  40.0   311     8  5/16  38.87  7.74   \n",
       "49   50  Ravindra Jadeja   12    12  38.0   349     5  5/16  69.80  9.18   \n",
       "26   27  Ravindra Jadeja   16    14  41.0   303    11  5/16  27.54  7.39   \n",
       "12   13  Ravindra Jadeja   16    16  54.0   343    15  5/16  22.86  6.35   \n",
       "39   40  Ravindra Jadeja   14    13  36.0   318     6  5/16  53.00  8.75   \n",
       "18   19  Ravindra Jadeja   16    16  49.0   346    13  5/16  26.61  7.06   \n",
       "60   61  Ravindra Jadeja   10    10  33.0   248     5  39/3  49.60  7.51   \n",
       "\n",
       "       SR  4w  5w  year  \n",
       "32  30.12   0   0  2016  \n",
       "49  45.60   0   0  2017  \n",
       "26  22.36   0   0  2018  \n",
       "12  21.60   0   0  2019  \n",
       "39  36.33   0   0  2020  \n",
       "18  22.61   0   0  2021  \n",
       "60  39.60   0   0  2022  "
      ]
     },
     "execution_count": 33,
     "metadata": {},
     "output_type": "execute_result"
    }
   ],
   "source": [
    "df_pl.sort_values(['year'])"
   ]
  },
  {
   "cell_type": "code",
   "execution_count": 35,
   "id": "1f4591e7-d83d-4ec0-b26e-dd3760156467",
   "metadata": {
    "tags": []
   },
   "outputs": [
    {
     "data": {
      "image/png": "[encoded data removed]",
      "text/plain": [
       "<Figure size 640x480 with 1 Axes>"
      ]
     },
     "metadata": {},
     "output_type": "display_data"
    }
   ],
   "source": [
    "plot_stats(df_pl, 'Wkts')"
   ]
  },
  {
   "cell_type": "code",
   "execution_count": null,
   "id": "b4fc8995-bd96-4091-a417-0d836787916d",
   "metadata": {},
   "outputs": [],
   "source": []
  },
  {
   "cell_type": "code",
   "execution_count": null,
   "id": "e6258aed-9dd3-44a8-90f4-3c93f1acc87c",
   "metadata": {},
   "outputs": [],
   "source": []
  }
 ],
 "metadata": {
  "kernelspec": {
   "display_name": "Python 3 (ipykernel)",
   "language": "python",
   "name": "python3"
  },
  "language_info": {
   "codemirror_mode": {
    "name": "ipython",
    "version": 3
   },
   "file_extension": ".py",
   "mimetype": "text/x-python",
   "name": "python",
   "nbconvert_exporter": "python",
   "pygments_lexer": "ipython3",
   "version": "3.10.9"
  }
 },
 "nbformat": 4,
 "nbformat_minor": 5
}
